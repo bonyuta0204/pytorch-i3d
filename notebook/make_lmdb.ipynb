{
 "cells": [
  {
   "cell_type": "code",
   "execution_count": 85,
   "metadata": {},
   "outputs": [],
   "source": [
    "import os\n",
    "import sys\n",
    "sys.path.append(\"../\")\n",
    "sys.path.append(\"../src\")\n",
    "\n",
    "import lmdb\n",
    "import numpy as np\n",
    "import matplotlib.pyplot as plt\n",
    "import cv2\n",
    "from PIL import Image\n",
    "\n",
    "import caffe\n",
    "from experiment import top_30_class as experiment\n",
    "from mit_data import MITDataset"
   ]
  },
  {
   "cell_type": "code",
   "execution_count": 86,
   "metadata": {},
   "outputs": [],
   "source": [
    "dataset = MITDataset(split_file=experiment.SPLIT_FILE, index_file=experiment.INDEX_FILE)\n",
    "index = dataset.index\n",
    "mlb = dataset.mlb\n",
    "bin_labels = dataset.binary_label"
   ]
  },
  {
   "cell_type": "code",
   "execution_count": 87,
   "metadata": {},
   "outputs": [],
   "source": [
    "def get_video_file(direc, filename):\n",
    "    return os.path.join(direc, filename)"
   ]
  },
  {
   "cell_type": "code",
   "execution_count": 88,
   "metadata": {},
   "outputs": [
    {
     "data": {
      "text/plain": [
       "{'category': 'breaking',\n",
       " 'directory': '../data/MIT_data/training/breaking',\n",
       " 'filename': 'v018_0048.mp4',\n",
       " 'object_label': 'hand',\n",
       " 'object_label_list': ['hand'],\n",
       " 'scene_label': nan,\n",
       " 'split': 'train'}"
      ]
     },
     "execution_count": 88,
     "metadata": {},
     "output_type": "execute_result"
    }
   ],
   "source": [
    "dataset.index[0]"
   ]
  },
  {
   "cell_type": "markdown",
   "metadata": {},
   "source": [
    "make pair of (image, binarized-label) for whole dataset.\n",
    "\n",
    "image should in (C x W x H) format and BGR"
   ]
  },
  {
   "cell_type": "code",
   "execution_count": 17,
   "metadata": {},
   "outputs": [
    {
     "ename": "SyntaxError",
     "evalue": "invalid syntax (<ipython-input-17-3fe9e32b8052>, line 1)",
     "output_type": "error",
     "traceback": [
      "\u001b[0;36m  File \u001b[0;32m\"<ipython-input-17-3fe9e32b8052>\"\u001b[0;36m, line \u001b[0;32m1\u001b[0m\n\u001b[0;31m    for i in range(dataset)\u001b[0m\n\u001b[0m                           ^\u001b[0m\n\u001b[0;31mSyntaxError\u001b[0m\u001b[0;31m:\u001b[0m invalid syntax\n"
     ]
    }
   ],
   "source": [
    "for i in range(dataset)"
   ]
  },
  {
   "cell_type": "code",
   "execution_count": 92,
   "metadata": {},
   "outputs": [],
   "source": [
    "i = 0\n",
    "video_path = get_video_file(index[i][\"directory\"], index[i][\"filename\"])\n",
    "video = dataset.load_video(video_path)[:, :, :, ::-1]\n",
    "video = video.transpose([0, 3, 1, 2])\n",
    "labels = bin_labels[i]"
   ]
  },
  {
   "cell_type": "code",
   "execution_count": 94,
   "metadata": {},
   "outputs": [
    {
     "data": {
      "text/plain": [
       "17694720"
      ]
     },
     "execution_count": 94,
     "metadata": {},
     "output_type": "execute_result"
    }
   ],
   "source": [
    "video.nbytes"
   ]
  },
  {
   "cell_type": "code",
   "execution_count": 98,
   "metadata": {},
   "outputs": [],
   "source": [
    "map_size = np.zeros((3, 256, 256), dtype=np.uint8).nbytes * 5000000\n"
   ]
  },
  {
   "cell_type": "code",
   "execution_count": 109,
   "metadata": {},
   "outputs": [],
   "source": [
    "env = lmdb.open('../data/MIT_data/video_lmdb', map_size=map_size)\n",
    "i = 0\n",
    "\n",
    "with env.begin(write=True) as txn:\n",
    "    # txn is a Transaction object\n",
    "    for i in range(len(dataset)):\n",
    "        video_path = get_video_file(index[i][\"directory\"], index[i][\"filename\"])\n",
    "        video = dataset.load_video(video_path)[:, :, :, ::-1]\n",
    "        video = video.transpose([0, 3, 1, 2])\n",
    "        labels = bin_labels[i]\n",
    "        for frame in range(len(video)):\n",
    "            frame = video[frame]\n",
    "            \n",
    "            datum = caffe.proto.caffe_pb2.Datum()\n",
    "            datum.channels = frame.shape[0]\n",
    "            datum.height = frame.shape[1]\n",
    "            datum.width = frame.shape[2]\n",
    "            datum.data = frame.tobytes()  # or .tostring() if numpy < 1.9\n",
    "            str_id = '{:08}'.format(i)\n",
    "            i += i + 1\n",
    "            txn.put(str_id, datum.SerializeToString())"
   ]
  },
  {
   "cell_type": "code",
   "execution_count": 115,
   "metadata": {},
   "outputs": [],
   "source": [
    "env = lmdb.open('../data/MIT_data/label_lmdb', map_size=map_size)\n",
    "idx = 0\n",
    "\n",
    "with env.begin(write=True) as txn:\n",
    "    # txn is a Transaction object\n",
    "    for i in range(len(dataset)):\n",
    "        video_path = get_video_file(index[i][\"directory\"], index[i][\"filename\"])\n",
    "        video = dataset.load_video(video_path)[:, :, :, ::-1]\n",
    "        video = video.transpose([0, 3, 1, 2])\n",
    "        labels = bin_labels[i].reshape([-1,1,1])\n",
    "        for frame in range(len(video)):\n",
    "            dat = caffe.io.array_to_datum(labels)\n",
    "            str_id = '{:08}'.format(idx)\n",
    "            idx = idx + 1\n",
    "            txn.put(str_id, dat.SerializeToString())"
   ]
  },
  {
   "cell_type": "code",
   "execution_count": 114,
   "metadata": {},
   "outputs": [
    {
     "data": {
      "text/plain": [
       "(20, 1, 1)"
      ]
     },
     "execution_count": 114,
     "metadata": {},
     "output_type": "execute_result"
    }
   ],
   "source": [
    "labels.reshape([-1,1,1]).shape"
   ]
  },
  {
   "cell_type": "code",
   "execution_count": 101,
   "metadata": {},
   "outputs": [
    {
     "data": {
      "text/plain": [
       "813326605810494840608724615167L"
      ]
     },
     "execution_count": 101,
     "metadata": {},
     "output_type": "execute_result"
    }
   ],
   "source": [
    "i"
   ]
  },
  {
   "cell_type": "code",
   "execution_count": 103,
   "metadata": {},
   "outputs": [
    {
     "data": {
      "text/plain": [
       "59130"
      ]
     },
     "execution_count": 103,
     "metadata": {},
     "output_type": "execute_result"
    }
   ],
   "source": [
    "657 * 90"
   ]
  },
  {
   "cell_type": "code",
   "execution_count": null,
   "metadata": {},
   "outputs": [],
   "source": [
    "len()"
   ]
  }
 ],
 "metadata": {
  "kernelspec": {
   "display_name": "Python(video27)",
   "language": "python",
   "name": "video27"
  },
  "language_info": {
   "codemirror_mode": {
    "name": "ipython",
    "version": 2
   },
   "file_extension": ".py",
   "mimetype": "text/x-python",
   "name": "python",
   "nbconvert_exporter": "python",
   "pygments_lexer": "ipython2",
   "version": "2.7.15"
  }
 },
 "nbformat": 4,
 "nbformat_minor": 2
}
