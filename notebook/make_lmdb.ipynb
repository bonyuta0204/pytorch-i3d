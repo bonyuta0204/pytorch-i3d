{
 "cells": [
  {
   "cell_type": "code",
   "execution_count": 1,
   "metadata": {},
   "outputs": [
    {
     "name": "stdout",
     "output_type": "stream",
     "text": [
      "/home/nakamura/pytorch-i3d\n"
     ]
    }
   ],
   "source": [
    "import os\n",
    "import sys\n",
    "sys.path.append(\"../\")\n",
    "sys.path.append(\"../src\")\n",
    "\n",
    "import lmdb\n",
    "import numpy as np\n",
    "import matplotlib.pyplot as plt\n",
    "import cv2\n",
    "import random\n",
    "from PIL import Image\n",
    "\n",
    "import caffe\n",
    "from experiment import top_30_class as experiment\n",
    "from mit_data import MITDataset"
   ]
  },
  {
   "cell_type": "code",
   "execution_count": 2,
   "metadata": {},
   "outputs": [],
   "source": [
    "dataset = MITDataset(split_file=experiment.SPLIT_FILE, index_file=experiment.INDEX_FILE)\n",
    "index = dataset.index\n",
    "mlb = dataset.mlb\n",
    "bin_labels = dataset.binary_label"
   ]
  },
  {
   "cell_type": "code",
   "execution_count": 3,
   "metadata": {},
   "outputs": [],
   "source": [
    "def get_video_file(direc, filename):\n",
    "    return os.path.join(direc, filename)"
   ]
  },
  {
   "cell_type": "markdown",
   "metadata": {},
   "source": [
    "make pair of (image, binarized-label) for whole dataset.\n",
    "\n",
    "image should in (C x W x H) format and BGR"
   ]
  },
  {
   "cell_type": "code",
   "execution_count": 4,
   "metadata": {},
   "outputs": [
    {
     "name": "stdout",
     "output_type": "stream",
     "text": [
      "59130\n"
     ]
    }
   ],
   "source": [
    "map_size = np.zeros((3, 256, 256), dtype=np.uint8).nbytes * 5000000\n",
    "num_item = len(dataset) * 90\n",
    "print(num_item)\n",
    "random_idx = random.sample(range(100000), 100000)"
   ]
  },
  {
   "cell_type": "code",
   "execution_count": 5,
   "metadata": {},
   "outputs": [],
   "source": [
    "env = lmdb.open('../data/MIT_data/video_lmdb', map_size=map_size)\n",
    "idx = 0\n",
    "\n",
    "with env.begin(write=True) as txn:\n",
    "    # txn is a Transaction object\n",
    "    for i in range(len(dataset)):\n",
    "        video_path = get_video_file(index[i][\"directory\"], index[i][\"filename\"])\n",
    "        video = dataset.load_video(video_path)[:, :, :, ::-1]\n",
    "        video = video.transpose([0, 3, 1, 2])\n",
    "        labels = bin_labels[i]\n",
    "        for frame in range(len(video)):\n",
    "            frame = video[frame]\n",
    "            \n",
    "            datum = caffe.proto.caffe_pb2.Datum()\n",
    "            datum.channels = frame.shape[0]\n",
    "            datum.height = frame.shape[1]\n",
    "            datum.width = frame.shape[2]\n",
    "            datum.data = frame.tobytes()  # or .tostring() if numpy < 1.9\n",
    "            str_id = '{:08}'.format(random_idx[idx])\n",
    "            idx += 1\n",
    "            txn.put(str_id, datum.SerializeToString())"
   ]
  },
  {
   "cell_type": "code",
   "execution_count": 6,
   "metadata": {},
   "outputs": [],
   "source": [
    "env = lmdb.open('../data/MIT_data/label_lmdb', map_size=map_size)\n",
    "idx = 0\n",
    "\n",
    "with env.begin(write=True) as txn:\n",
    "    # txn is a Transaction object\n",
    "    for i in range(len(dataset)):\n",
    "        video_path = get_video_file(index[i][\"directory\"], index[i][\"filename\"])\n",
    "        video = dataset.load_video(video_path)[:, :, :, ::-1]\n",
    "        video = video.transpose([0, 3, 1, 2])\n",
    "        labels = bin_labels[i].reshape([-1,1,1])\n",
    "        for frame in range(len(video)):\n",
    "            dat = caffe.io.array_to_datum(labels)\n",
    "            str_id = '{:08}'.format(random_idx[idx])\n",
    "            idx += 1\n",
    "            txn.put(str_id, dat.SerializeToString())"
   ]
  },
  {
   "cell_type": "code",
   "execution_count": 8,
   "metadata": {},
   "outputs": [],
   "source": [
    "dataset = experiment.val_dataset\n",
    "index = dataset.index\n",
    "mlb = dataset.mlb\n",
    "bin_labels = dataset.binary_label"
   ]
  },
  {
   "cell_type": "code",
   "execution_count": 9,
   "metadata": {},
   "outputs": [],
   "source": [
    "env = lmdb.open('../data/MIT_data/video_val_lmdb', map_size=map_size)\n",
    "idx = 0\n",
    "\n",
    "with env.begin(write=True) as txn:\n",
    "    # txn is a Transaction object\n",
    "    for i in range(len(dataset)):\n",
    "        video_path = get_video_file(index[i][\"directory\"], index[i][\"filename\"])\n",
    "        video = dataset.load_video(video_path)[:, :, :, ::-1]\n",
    "        video = video.transpose([0, 3, 1, 2])\n",
    "        labels = bin_labels[i]\n",
    "        for frame in range(len(video)):\n",
    "            frame = video[frame]\n",
    "            \n",
    "            datum = caffe.proto.caffe_pb2.Datum()\n",
    "            datum.channels = frame.shape[0]\n",
    "            datum.height = frame.shape[1]\n",
    "            datum.width = frame.shape[2]\n",
    "            datum.data = frame.tobytes()  # or .tostring() if numpy < 1.9\n",
    "            str_id = '{:08}'.format(idx)\n",
    "            idx += 1\n",
    "            txn.put(str_id, datum.SerializeToString())"
   ]
  },
  {
   "cell_type": "code",
   "execution_count": 10,
   "metadata": {},
   "outputs": [],
   "source": [
    "env = lmdb.open('../data/MIT_data/label_val_lmdb', map_size=map_size)\n",
    "idx = 0\n",
    "\n",
    "with env.begin(write=True) as txn:\n",
    "    # txn is a Transaction object\n",
    "    for i in range(len(dataset)):\n",
    "        video_path = get_video_file(index[i][\"directory\"], index[i][\"filename\"])\n",
    "        video = dataset.load_video(video_path)[:, :, :, ::-1]\n",
    "        video = video.transpose([0, 3, 1, 2])\n",
    "        labels = bin_labels[i].reshape([-1,1,1])\n",
    "        for frame in range(len(video)):\n",
    "            dat = caffe.io.array_to_datum(labels)\n",
    "            str_id = '{:08}'.format(idx)\n",
    "            idx += 1\n",
    "            txn.put(str_id, dat.SerializeToString())"
   ]
  },
  {
   "cell_type": "code",
   "execution_count": null,
   "metadata": {},
   "outputs": [],
   "source": []
  }
 ],
 "metadata": {
  "kernelspec": {
   "display_name": "Python(video27)",
   "language": "python",
   "name": "video27"
  },
  "language_info": {
   "codemirror_mode": {
    "name": "ipython",
    "version": 2
   },
   "file_extension": ".py",
   "mimetype": "text/x-python",
   "name": "python",
   "nbconvert_exporter": "python",
   "pygments_lexer": "ipython2",
   "version": "2.7.15"
  }
 },
 "nbformat": 4,
 "nbformat_minor": 2
}
