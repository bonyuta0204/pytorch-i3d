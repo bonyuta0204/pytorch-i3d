{
 "cells": [
  {
   "cell_type": "code",
   "execution_count": 1,
   "metadata": {},
   "outputs": [
    {
     "name": "stdout",
     "output_type": "stream",
     "text": [
      "/home/nakamura/pytorch-i3d\n"
     ]
    }
   ],
   "source": [
    "import sys\n",
    "import os\n",
    "import caffe\n",
    "import numpy as np\n",
    "import matplotlib.pyplot as plt\n",
    "\n",
    "os.chdir(\"/home/nakamura/pytorch-i3d/\")\n",
    "from caffe import layers as L, params as P\n",
    "from experiment import top_30_class as experiment\n",
    "caffe.set_mode_gpu()"
   ]
  },
  {
   "cell_type": "code",
   "execution_count": 2,
   "metadata": {},
   "outputs": [],
   "source": [
    "net = caffe.Net(\"models/bvlc_googlenet/train_val.prototxt\", \"models/bvlc_googlenet/bvlc_googlenet.caffemodel\", caffe.TRAIN)\n",
    "mlb = experiment.mlb"
   ]
  },
  {
   "cell_type": "code",
   "execution_count": 24,
   "metadata": {},
   "outputs": [
    {
     "data": {
      "text/plain": [
       "{'loss1/loss1': array(24.323132, dtype=float32),\n",
       " 'loss2/loss2': array(22.202324, dtype=float32),\n",
       " 'loss3/loss3': array(20.63464, dtype=float32)}"
      ]
     },
     "execution_count": 24,
     "metadata": {},
     "output_type": "execute_result"
    }
   ],
   "source": [
    "net.forward()"
   ]
  },
  {
   "cell_type": "code",
   "execution_count": 25,
   "metadata": {},
   "outputs": [
    {
     "name": "stdout",
     "output_type": "stream",
     "text": [
      "['man']\n"
     ]
    },
    {
     "data": {
      "text/plain": [
       "<matplotlib.image.AxesImage at 0x7feb7c286290>"
      ]
     },
     "execution_count": 25,
     "metadata": {},
     "output_type": "execute_result"
    },
    {
     "data": {
      "image/png": "[encoded data removed]",
      "text/plain": [
       "<Figure size 432x288 with 1 Axes>"
      ]
     },
     "metadata": {
      "needs_background": "light"
     },
     "output_type": "display_data"
    }
   ],
   "source": [
    "label = net.blobs[\"label\"].data\n",
    "image = net.blobs[\"data\"].data\n",
    "\n",
    "lab = label[0, :, 0, 0]\n",
    "img = image[0].transpose([1,2,0])\n",
    "img = img[:,:,::-1]\n",
    "print(mlb.classes_[lab.astype(np.bool)])\n",
    "plt.imshow(img)"
   ]
  },
  {
   "cell_type": "code",
   "execution_count": 26,
   "metadata": {},
   "outputs": [],
   "source": [
    "solver = caffe.get_solver(\"models/bvlc_googlenet/solver.prototxt\")\n",
    "weight = \"models/bvlc_googlenet/bvlc_googlenet.caffemodel\"\n",
    "solver.net.copy_from(weight)"
   ]
  },
  {
   "cell_type": "code",
   "execution_count": 27,
   "metadata": {},
   "outputs": [
    {
     "name": "stdout",
     "output_type": "stream",
     "text": [
      "step    0, loss1/loss1 : 24.738480\n",
      "step    0, loss2/loss2 : 22.471153\n",
      "step    0, loss3/loss3 : 18.379782\n",
      "step  100, loss1/loss1 : 3.642714\n",
      "step  100, loss2/loss2 : 3.955404\n",
      "step  100, loss3/loss3 : 2.761778\n",
      "step  200, loss1/loss1 : 3.683069\n",
      "step  200, loss2/loss2 : 4.138904\n",
      "step  200, loss3/loss3 : 2.834946\n",
      "step  300, loss1/loss1 : 2.739234\n",
      "step  300, loss2/loss2 : 2.779387\n",
      "step  300, loss3/loss3 : 1.550982\n",
      "step  400, loss1/loss1 : 2.729930\n",
      "step  400, loss2/loss2 : 2.677213\n",
      "step  400, loss3/loss3 : 1.736970\n",
      "step  500, loss1/loss1 : 3.111559\n",
      "step  500, loss2/loss2 : 2.852220\n",
      "step  500, loss3/loss3 : 1.501751\n",
      "step  600, loss1/loss1 : 2.644162\n",
      "step  600, loss2/loss2 : 2.610458\n",
      "step  600, loss3/loss3 : 1.566884\n",
      "step  700, loss1/loss1 : 2.600223\n",
      "step  700, loss2/loss2 : 2.191708\n",
      "step  700, loss3/loss3 : 1.332523\n",
      "step  800, loss1/loss1 : 2.922802\n",
      "step  800, loss2/loss2 : 2.560648\n",
      "step  800, loss3/loss3 : 1.339662\n",
      "step  900, loss1/loss1 : 2.678158\n",
      "step  900, loss2/loss2 : 2.319236\n",
      "step  900, loss3/loss3 : 1.402606\n",
      "step 1000, loss1/loss1 : 2.760406\n",
      "step 1000, loss2/loss2 : 2.175673\n",
      "step 1000, loss3/loss3 : 1.328580\n",
      "step 1100, loss1/loss1 : 2.938936\n",
      "step 1100, loss2/loss2 : 2.538330\n",
      "step 1100, loss3/loss3 : 1.519874\n",
      "step 1200, loss1/loss1 : 2.672467\n",
      "step 1200, loss2/loss2 : 2.172306\n",
      "step 1200, loss3/loss3 : 1.367649\n",
      "step 1300, loss1/loss1 : 2.809061\n",
      "step 1300, loss2/loss2 : 2.835101\n",
      "step 1300, loss3/loss3 : 1.570926\n",
      "step 1400, loss1/loss1 : 2.326407\n",
      "step 1400, loss2/loss2 : 1.858339\n",
      "step 1400, loss3/loss3 : 0.946748\n",
      "step 1500, loss1/loss1 : 2.906022\n",
      "step 1500, loss2/loss2 : 3.327363\n",
      "step 1500, loss3/loss3 : 1.545882\n",
      "step 1600, loss1/loss1 : 2.687892\n",
      "step 1600, loss2/loss2 : 2.717835\n",
      "step 1600, loss3/loss3 : 1.484247\n",
      "step 1700, loss1/loss1 : 2.481455\n",
      "step 1700, loss2/loss2 : 1.832777\n",
      "step 1700, loss3/loss3 : 1.031880\n",
      "step 1800, loss1/loss1 : 1.858309\n",
      "step 1800, loss2/loss2 : 1.688839\n",
      "step 1800, loss3/loss3 : 1.034852\n",
      "step 1900, loss1/loss1 : 2.477100\n",
      "step 1900, loss2/loss2 : 2.097171\n",
      "step 1900, loss3/loss3 : 1.078843\n",
      "step 2000, loss1/loss1 : 2.873555\n",
      "step 2000, loss2/loss2 : 2.396456\n",
      "step 2000, loss3/loss3 : 1.301185\n",
      "step 2100, loss1/loss1 : 2.958975\n",
      "step 2100, loss2/loss2 : 2.649261\n",
      "step 2100, loss3/loss3 : 1.495551\n",
      "step 2200, loss1/loss1 : 2.192739\n",
      "step 2200, loss2/loss2 : 2.131054\n",
      "step 2200, loss3/loss3 : 0.946765\n",
      "step 2300, loss1/loss1 : 2.780093\n",
      "step 2300, loss2/loss2 : 2.345522\n",
      "step 2300, loss3/loss3 : 1.153257\n",
      "step 2400, loss1/loss1 : 2.847213\n",
      "step 2400, loss2/loss2 : 2.258009\n",
      "step 2400, loss3/loss3 : 1.333465\n",
      "step 2500, loss1/loss1 : 2.674582\n",
      "step 2500, loss2/loss2 : 2.840958\n",
      "step 2500, loss3/loss3 : 1.471150\n",
      "step 2600, loss1/loss1 : 2.279207\n",
      "step 2600, loss2/loss2 : 2.143551\n",
      "step 2600, loss3/loss3 : 1.154573\n",
      "step 2700, loss1/loss1 : 2.637041\n",
      "step 2700, loss2/loss2 : 2.151428\n",
      "step 2700, loss3/loss3 : 1.285978\n",
      "step 2800, loss1/loss1 : 2.084232\n",
      "step 2800, loss2/loss2 : 1.979788\n",
      "step 2800, loss3/loss3 : 1.064034\n",
      "step 2900, loss1/loss1 : 2.962711\n",
      "step 2900, loss2/loss2 : 2.386322\n",
      "step 2900, loss3/loss3 : 1.388088\n",
      "step 3000, loss1/loss1 : 2.842290\n",
      "step 3000, loss2/loss2 : 2.792487\n",
      "step 3000, loss3/loss3 : 1.416134\n",
      "step 3100, loss1/loss1 : 2.546808\n",
      "step 3100, loss2/loss2 : 2.133661\n",
      "step 3100, loss3/loss3 : 1.161648\n",
      "step 3200, loss1/loss1 : 2.479499\n",
      "step 3200, loss2/loss2 : 2.225295\n",
      "step 3200, loss3/loss3 : 1.205648\n",
      "step 3300, loss1/loss1 : 2.088397\n",
      "step 3300, loss2/loss2 : 1.859502\n",
      "step 3300, loss3/loss3 : 1.088229\n",
      "step 3400, loss1/loss1 : 2.654084\n",
      "step 3400, loss2/loss2 : 2.923971\n",
      "step 3400, loss3/loss3 : 1.564783\n",
      "step 3500, loss1/loss1 : 2.916023\n",
      "step 3500, loss2/loss2 : 2.038410\n",
      "step 3500, loss3/loss3 : 1.402777\n",
      "step 3600, loss1/loss1 : 2.827078\n",
      "step 3600, loss2/loss2 : 2.629342\n",
      "step 3600, loss3/loss3 : 1.383398\n",
      "step 3700, loss1/loss1 : 2.758424\n",
      "step 3700, loss2/loss2 : 2.618596\n",
      "step 3700, loss3/loss3 : 1.143737\n",
      "step 3800, loss1/loss1 : 2.789900\n",
      "step 3800, loss2/loss2 : 2.471585\n",
      "step 3800, loss3/loss3 : 1.595512\n",
      "step 3900, loss1/loss1 : 2.879124\n",
      "step 3900, loss2/loss2 : 2.621471\n",
      "step 3900, loss3/loss3 : 1.699501\n",
      "step 4000, loss1/loss1 : 2.932222\n",
      "step 4000, loss2/loss2 : 2.415679\n",
      "step 4000, loss3/loss3 : 1.560893\n",
      "step 4100, loss1/loss1 : 2.573266\n",
      "step 4100, loss2/loss2 : 2.099645\n",
      "step 4100, loss3/loss3 : 1.387951\n",
      "step 4200, loss1/loss1 : 2.773144\n",
      "step 4200, loss2/loss2 : 2.205683\n",
      "step 4200, loss3/loss3 : 1.115472\n",
      "step 4300, loss1/loss1 : 2.771874\n",
      "step 4300, loss2/loss2 : 2.623319\n",
      "step 4300, loss3/loss3 : 1.366276\n",
      "step 4400, loss1/loss1 : 3.080804\n",
      "step 4400, loss2/loss2 : 2.651558\n",
      "step 4400, loss3/loss3 : 1.669604\n",
      "step 4500, loss1/loss1 : 2.294445\n",
      "step 4500, loss2/loss2 : 2.084077\n",
      "step 4500, loss3/loss3 : 0.970987\n",
      "step 4600, loss1/loss1 : 2.466246\n",
      "step 4600, loss2/loss2 : 1.735513\n",
      "step 4600, loss3/loss3 : 1.134826\n",
      "step 4700, loss1/loss1 : 2.629849\n",
      "step 4700, loss2/loss2 : 2.190424\n",
      "step 4700, loss3/loss3 : 1.336512\n",
      "step 4800, loss1/loss1 : 2.219462\n",
      "step 4800, loss2/loss2 : 1.679103\n",
      "step 4800, loss3/loss3 : 0.765161\n",
      "step 4900, loss1/loss1 : 2.574432\n",
      "step 4900, loss2/loss2 : 2.316911\n",
      "step 4900, loss3/loss3 : 1.454735\n",
      "step 5000, loss1/loss1 : 2.912276\n",
      "step 5000, loss2/loss2 : 2.082488\n",
      "step 5000, loss3/loss3 : 1.268398\n",
      "step 5100, loss1/loss1 : 2.365437\n",
      "step 5100, loss2/loss2 : 1.862860\n",
      "step 5100, loss3/loss3 : 1.295597\n",
      "step 5200, loss1/loss1 : 3.060740\n",
      "step 5200, loss2/loss2 : 3.150557\n",
      "step 5200, loss3/loss3 : 1.716243\n",
      "step 5300, loss1/loss1 : 2.885050\n",
      "step 5300, loss2/loss2 : 2.670090\n",
      "step 5300, loss3/loss3 : 1.649717\n",
      "step 5400, loss1/loss1 : 2.963843\n",
      "step 5400, loss2/loss2 : 2.685447\n",
      "step 5400, loss3/loss3 : 1.329915\n",
      "step 5500, loss1/loss1 : 2.390964\n",
      "step 5500, loss2/loss2 : 2.051423\n",
      "step 5500, loss3/loss3 : 1.197420\n",
      "step 5600, loss1/loss1 : 2.186695\n",
      "step 5600, loss2/loss2 : 2.385187\n",
      "step 5600, loss3/loss3 : 0.821202\n",
      "step 5700, loss1/loss1 : 2.628960\n",
      "step 5700, loss2/loss2 : 2.439711\n",
      "step 5700, loss3/loss3 : 1.406422\n",
      "step 5800, loss1/loss1 : 2.500315\n",
      "step 5800, loss2/loss2 : 1.965493\n",
      "step 5800, loss3/loss3 : 1.103268\n",
      "step 5900, loss1/loss1 : 3.098257\n",
      "step 5900, loss2/loss2 : 2.341485\n",
      "step 5900, loss3/loss3 : 1.603084\n",
      "step 6000, loss1/loss1 : 3.253703\n",
      "step 6000, loss2/loss2 : 3.054848\n",
      "step 6000, loss3/loss3 : 1.503743\n",
      "step 6100, loss1/loss1 : 2.671526\n",
      "step 6100, loss2/loss2 : 2.146235\n",
      "step 6100, loss3/loss3 : 1.343926\n",
      "step 6200, loss1/loss1 : 2.629615\n",
      "step 6200, loss2/loss2 : 2.473330\n",
      "step 6200, loss3/loss3 : 1.484060\n",
      "step 6300, loss1/loss1 : 2.551456\n",
      "step 6300, loss2/loss2 : 2.625757\n",
      "step 6300, loss3/loss3 : 0.952192\n",
      "step 6400, loss1/loss1 : 1.836084\n",
      "step 6400, loss2/loss2 : 1.715173\n",
      "step 6400, loss3/loss3 : 0.854641\n",
      "step 6500, loss1/loss1 : 2.273887\n",
      "step 6500, loss2/loss2 : 2.365129\n",
      "step 6500, loss3/loss3 : 1.465346\n",
      "step 6600, loss1/loss1 : 2.628606\n",
      "step 6600, loss2/loss2 : 2.760771\n",
      "step 6600, loss3/loss3 : 1.438622\n",
      "step 6700, loss1/loss1 : 2.564877\n",
      "step 6700, loss2/loss2 : 2.164176\n",
      "step 6700, loss3/loss3 : 1.128682\n",
      "step 6800, loss1/loss1 : 2.543092\n",
      "step 6800, loss2/loss2 : 2.277279\n",
      "step 6800, loss3/loss3 : 1.091880\n",
      "step 6900, loss1/loss1 : 2.759286\n",
      "step 6900, loss2/loss2 : 2.202509\n",
      "step 6900, loss3/loss3 : 0.888656\n",
      "step 7000, loss1/loss1 : 2.534004\n",
      "step 7000, loss2/loss2 : 2.212692\n",
      "step 7000, loss3/loss3 : 1.085744\n",
      "step 7100, loss1/loss1 : 2.266501\n",
      "step 7100, loss2/loss2 : 2.153165\n",
      "step 7100, loss3/loss3 : 1.301510\n",
      "step 7200, loss1/loss1 : 2.314658\n",
      "step 7200, loss2/loss2 : 1.827583\n",
      "step 7200, loss3/loss3 : 0.975500\n",
      "step 7300, loss1/loss1 : 2.607368\n",
      "step 7300, loss2/loss2 : 2.329969\n",
      "step 7300, loss3/loss3 : 1.252064\n",
      "step 7400, loss1/loss1 : 2.235838\n",
      "step 7400, loss2/loss2 : 2.479665\n",
      "step 7400, loss3/loss3 : 1.433143\n",
      "step 7500, loss1/loss1 : 2.517010\n",
      "step 7500, loss2/loss2 : 2.043914\n",
      "step 7500, loss3/loss3 : 1.159526\n",
      "step 7600, loss1/loss1 : 2.391394\n",
      "step 7600, loss2/loss2 : 1.849595\n",
      "step 7600, loss3/loss3 : 1.156355\n",
      "step 7700, loss1/loss1 : 2.907846\n",
      "step 7700, loss2/loss2 : 2.446569\n",
      "step 7700, loss3/loss3 : 1.417393\n",
      "step 7800, loss1/loss1 : 2.266249\n",
      "step 7800, loss2/loss2 : 1.855474\n",
      "step 7800, loss3/loss3 : 0.775061\n",
      "step 7900, loss1/loss1 : 2.858132\n",
      "step 7900, loss2/loss2 : 2.555987\n",
      "step 7900, loss3/loss3 : 1.746859\n",
      "step 8000, loss1/loss1 : 2.189532\n",
      "step 8000, loss2/loss2 : 2.483986\n",
      "step 8000, loss3/loss3 : 1.054771\n"
     ]
    },
    {
     "name": "stdout",
     "output_type": "stream",
     "text": [
      "step 8100, loss1/loss1 : 2.878846\n",
      "step 8100, loss2/loss2 : 2.735906\n",
      "step 8100, loss3/loss3 : 1.637895\n",
      "step 8200, loss1/loss1 : 2.373422\n",
      "step 8200, loss2/loss2 : 2.117260\n",
      "step 8200, loss3/loss3 : 1.193752\n",
      "step 8300, loss1/loss1 : 2.883437\n",
      "step 8300, loss2/loss2 : 2.220974\n",
      "step 8300, loss3/loss3 : 1.288094\n",
      "step 8400, loss1/loss1 : 2.566739\n",
      "step 8400, loss2/loss2 : 2.339509\n",
      "step 8400, loss3/loss3 : 1.483244\n",
      "step 8500, loss1/loss1 : 2.597621\n",
      "step 8500, loss2/loss2 : 2.667138\n",
      "step 8500, loss3/loss3 : 1.409061\n",
      "step 8600, loss1/loss1 : 2.604644\n",
      "step 8600, loss2/loss2 : 2.504338\n",
      "step 8600, loss3/loss3 : 1.539282\n",
      "step 8700, loss1/loss1 : 2.723366\n",
      "step 8700, loss2/loss2 : 2.382647\n",
      "step 8700, loss3/loss3 : 1.404318\n",
      "step 8800, loss1/loss1 : 2.934970\n",
      "step 8800, loss2/loss2 : 2.401673\n",
      "step 8800, loss3/loss3 : 1.392479\n",
      "step 8900, loss1/loss1 : 2.782969\n",
      "step 8900, loss2/loss2 : 2.536909\n",
      "step 8900, loss3/loss3 : 1.726348\n",
      "step 9000, loss1/loss1 : 2.834674\n",
      "step 9000, loss2/loss2 : 2.078304\n",
      "step 9000, loss3/loss3 : 1.461480\n",
      "step 9100, loss1/loss1 : 2.691844\n",
      "step 9100, loss2/loss2 : 2.558077\n",
      "step 9100, loss3/loss3 : 1.469569\n",
      "step 9200, loss1/loss1 : 2.743568\n",
      "step 9200, loss2/loss2 : 2.328054\n",
      "step 9200, loss3/loss3 : 1.507876\n",
      "step 9300, loss1/loss1 : 2.471336\n",
      "step 9300, loss2/loss2 : 2.077930\n",
      "step 9300, loss3/loss3 : 1.318516\n",
      "step 9400, loss1/loss1 : 2.790992\n",
      "step 9400, loss2/loss2 : 2.166600\n",
      "step 9400, loss3/loss3 : 1.162291\n",
      "step 9500, loss1/loss1 : 2.457047\n",
      "step 9500, loss2/loss2 : 2.340152\n",
      "step 9500, loss3/loss3 : 1.056379\n",
      "step 9600, loss1/loss1 : 2.199846\n",
      "step 9600, loss2/loss2 : 1.825808\n",
      "step 9600, loss3/loss3 : 1.444032\n",
      "step 9700, loss1/loss1 : 3.040823\n",
      "step 9700, loss2/loss2 : 2.756296\n",
      "step 9700, loss3/loss3 : 1.495716\n",
      "step 9800, loss1/loss1 : 2.904790\n",
      "step 9800, loss2/loss2 : 2.814756\n",
      "step 9800, loss3/loss3 : 1.817950\n",
      "step 9900, loss1/loss1 : 2.176703\n",
      "step 9900, loss2/loss2 : 1.905846\n",
      "step 9900, loss3/loss3 : 0.807643\n"
     ]
    }
   ],
   "source": [
    "n_iter = 10000\n",
    "loss_layers = [\"loss1/loss1\", \"loss2/loss2\", \"loss3/loss3\"]\n",
    "loss = {layer: np.zeros(n_iter) for layer in loss_layers }\n",
    "for it in range(n_iter):\n",
    "    solver.step(1)\n",
    "    for layer in loss_layers:\n",
    "        loss[layer][it] = solver.net.blobs[layer].data.copy() \n",
    "        if it % 100 == 0:\n",
    "            print(\"step {0:4d}, {1} : {2:f}\".format(it, layer, loss[layer][it]))"
   ]
  },
  {
   "cell_type": "code",
   "execution_count": 29,
   "metadata": {},
   "outputs": [
    {
     "data": {
      "text/plain": [
       "[<matplotlib.lines.Line2D at 0x7feb7c207310>]"
      ]
     },
     "execution_count": 29,
     "metadata": {},
     "output_type": "execute_result"
    },
    {
     "data": {
      "image/png": "[encoded data removed]",
      "text/plain": [
       "<Figure size 432x288 with 1 Axes>"
      ]
     },
     "metadata": {
      "needs_background": "light"
     },
     "output_type": "display_data"
    }
   ],
   "source": [
    "plt.plot(loss[\"loss1/loss1\"])"
   ]
  },
  {
   "cell_type": "code",
   "execution_count": null,
   "metadata": {},
   "outputs": [],
   "source": []
  }
 ],
 "metadata": {
  "kernelspec": {
   "display_name": "Python(video27)",
   "language": "python",
   "name": "video27"
  },
  "language_info": {
   "codemirror_mode": {
    "name": "ipython",
    "version": 2
   },
   "file_extension": ".py",
   "mimetype": "text/x-python",
   "name": "python",
   "nbconvert_exporter": "python",
   "pygments_lexer": "ipython2",
   "version": "2.7.15"
  }
 },
 "nbformat": 4,
 "nbformat_minor": 2
}
