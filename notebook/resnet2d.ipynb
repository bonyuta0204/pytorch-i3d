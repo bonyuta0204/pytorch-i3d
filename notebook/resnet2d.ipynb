{
 "cells": [
  {
   "cell_type": "code",
   "execution_count": 39,
   "metadata": {},
   "outputs": [
    {
     "name": "stdout",
     "output_type": "stream",
     "text": [
      "The autoreload extension is already loaded. To reload it, use:\n",
      "  %reload_ext autoreload\n"
     ]
    }
   ],
   "source": [
    "%load_ext autoreload\n",
    "%autoreload\n",
    "import sys\n",
    "sys.path.append(\"../\")\n",
    "\n",
    "import numpy as np\n",
    "import matplotlib.pyplot as plt\n",
    "import pandas as pd\n",
    "import torch\n",
    "\n",
    "import experiment.resnet2d_top20 as experiment\n",
    "from src.mit_data import MITDataset, MITImageDataset"
   ]
  },
  {
   "cell_type": "code",
   "execution_count": 41,
   "metadata": {},
   "outputs": [],
   "source": [
    "dataset = experiment.dataset\n",
    "dataloader = experiment.dataloader\n",
    "model = experiment.model"
   ]
  },
  {
   "cell_type": "code",
   "execution_count": 46,
   "metadata": {},
   "outputs": [],
   "source": [
    "sample = dataset[0]\n",
    "image = sample[\"video\"]"
   ]
  },
  {
   "cell_type": "code",
   "execution_count": 48,
   "metadata": {},
   "outputs": [
    {
     "data": {
      "text/plain": [
       "tensor([[[-1.9809, -1.9809, -1.9809,  ..., -1.9809, -1.9809, -1.9980],\n",
       "         [-1.9809, -1.9809, -1.9809,  ..., -1.9809, -1.9980, -2.0152],\n",
       "         [-1.9809, -1.9809, -1.9809,  ..., -1.9809, -1.9980, -2.0152],\n",
       "         ...,\n",
       "         [-2.0837, -2.1008, -2.1008,  ..., -1.5870, -1.5014, -1.4158],\n",
       "         [-2.0837, -2.1008, -2.1008,  ..., -1.6042, -1.5357, -1.4843],\n",
       "         [-2.0837, -2.1008, -2.1008,  ..., -1.6042, -1.5528, -1.5185]],\n",
       "\n",
       "        [[-1.8606, -1.8606, -1.8606,  ..., -1.8606, -1.8606, -1.8782],\n",
       "         [-1.8606, -1.8606, -1.8606,  ..., -1.8606, -1.8782, -1.8957],\n",
       "         [-1.8606, -1.8606, -1.8606,  ..., -1.8606, -1.8782, -1.8957],\n",
       "         ...,\n",
       "         [-2.0007, -2.0182, -2.0182,  ..., -1.5280, -1.5280, -1.4405],\n",
       "         [-2.0007, -2.0182, -2.0182,  ..., -1.5455, -1.5630, -1.5105],\n",
       "         [-2.0007, -2.0182, -2.0182,  ..., -1.5105, -1.5805, -1.5455]],\n",
       "\n",
       "        [[-1.6302, -1.6302, -1.6302,  ..., -1.6824, -1.6824, -1.6999],\n",
       "         [-1.6302, -1.6302, -1.6302,  ..., -1.6824, -1.6999, -1.7173],\n",
       "         [-1.6302, -1.6302, -1.6302,  ..., -1.6824, -1.6999, -1.7173],\n",
       "         ...,\n",
       "         [-1.8044, -1.8044, -1.8044,  ..., -1.3687, -1.3339, -1.2467],\n",
       "         [-1.8044, -1.8044, -1.8044,  ..., -1.3861, -1.3687, -1.3164],\n",
       "         [-1.8044, -1.8044, -1.8044,  ..., -1.3687, -1.3861, -1.3513]]])"
      ]
     },
     "execution_count": 48,
     "metadata": {},
     "output_type": "execute_result"
    }
   ],
   "source": []
  },
  {
   "cell_type": "code",
   "execution_count": null,
   "metadata": {},
   "outputs": [],
   "source": []
  }
 ],
 "metadata": {
  "kernelspec": {
   "display_name": "Python (video)",
   "language": "python",
   "name": "video"
  },
  "language_info": {
   "codemirror_mode": {
    "name": "ipython",
    "version": 3
   },
   "file_extension": ".py",
   "mimetype": "text/x-python",
   "name": "python",
   "nbconvert_exporter": "python",
   "pygments_lexer": "ipython3",
   "version": "3.6.0"
  }
 },
 "nbformat": 4,
 "nbformat_minor": 2
}
