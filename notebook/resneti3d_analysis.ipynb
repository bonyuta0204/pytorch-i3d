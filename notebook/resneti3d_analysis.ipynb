{
 "cells": [
  {
   "cell_type": "code",
   "execution_count": 1,
   "metadata": {},
   "outputs": [],
   "source": [
    "%load_ext autoreload\n",
    "%autoreload\n",
    "import argparse\n",
    "import copy\n",
    "import json\n",
    "import os\n",
    "import sys\n",
    "\n",
    "sys.path.append(\"../\")\n",
    "sys.path.append(\"../src\")\n",
    "\n",
    "import numpy as np\n",
    "import torch\n",
    "import torch.nn as nn\n",
    "import torch.nn.functional as F\n",
    "import torch.optim as optim\n",
    "import torchvision\n",
    "import torchvision.datasets as datasets\n",
    "import torchvision.transforms as transforms\n",
    "import pandas as pd\n",
    "from IPython import embed\n",
    "from matplotlib import pyplot as plt\n",
    "from torch.autograd import Variable\n",
    "\n",
    "\n",
    "%matplotlib inline"
   ]
  },
  {
   "cell_type": "code",
   "execution_count": 3,
   "metadata": {},
   "outputs": [],
   "source": [
    "%autoreload\n",
    "import experiment.resnet3d_top20 as experiment\n",
    "from src.i3dense import I3DenseNet\n",
    "from src.i3res import I3ResNet\n",
    "from src.mit_data import MITDataset\n",
    "from src.train import train, validation_loss"
   ]
  },
  {
   "cell_type": "code",
   "execution_count": 4,
   "metadata": {},
   "outputs": [],
   "source": [
    "dataset = experiment.dataset\n",
    "dataloader = experiment.dataloader\n",
    "val_dataloader = experiment.val_dataloader\n",
    "resnet = torchvision.models.resnet50(pretrained=True)"
   ]
  },
  {
   "cell_type": "code",
   "execution_count": 8,
   "metadata": {},
   "outputs": [],
   "source": [
    "cuda1 = torch.device(\"cuda:1\")\n",
    "num_classes = 20\n",
    "resnet.fc = nn.Linear(2048, num_classes)\n",
    "i3resnet = I3ResNet(copy.deepcopy(resnet), 32).to(device=cuda1)"
   ]
  },
  {
   "cell_type": "code",
   "execution_count": null,
   "metadata": {},
   "outputs": [
    {
     "name": "stdout",
     "output_type": "stream",
     "text": [
      "Step 0/64000.0\n",
      "----------\n",
      "step:   10 loss: 0.5938\n",
      "step:   20 loss: 0.2606\n",
      "step:   30 loss: 0.2675\n",
      "step:   40 loss: 0.2033\n",
      "step:   50 loss: 0.2248\n",
      "step:   60 loss: 0.2249\n",
      "step:   70 loss: 0.1941\n",
      "step:   80 loss: 0.2099\n",
      "step:   90 loss: 0.2383\n",
      "step:  100 loss: 0.2208\n",
      "step:  110 loss: 0.2143\n",
      "step:  120 loss: 0.2071\n",
      "step:  130 loss: 0.2013\n",
      "step:  140 loss: 0.2188\n",
      "step:  150 loss: 0.2063\n",
      "step:  160 loss: 0.2041\n",
      "validation error step:  164 loss: 0.2161\n",
      "Step 164/64000.0\n",
      "----------\n",
      "step:  170 loss: 0.1348\n",
      "step:  180 loss: 0.1925\n",
      "step:  190 loss: 0.2118\n",
      "step:  200 loss: 0.2161\n",
      "step:  210 loss: 0.1854\n",
      "step:  220 loss: 0.2324\n",
      "step:  230 loss: 0.2118\n",
      "step:  240 loss: 0.1955\n",
      "step:  250 loss: 0.1937\n",
      "step:  260 loss: 0.2196\n"
     ]
    }
   ],
   "source": [
    "train(dataloader,val_dataloader,i3resnet,save_model_prefix=\"../experiment/resnet3d_top20/normalized_\", device=cuda1,log_file=\"../experiment/resnet3d_top20/1212_log.csv\")"
   ]
  },
  {
   "cell_type": "code",
   "execution_count": 23,
   "metadata": {},
   "outputs": [],
   "source": [
    "df = pd.read_csv(\"\", index_col=\"iteration\")"
   ]
  },
  {
   "cell_type": "code",
   "execution_count": 30,
   "metadata": {},
   "outputs": [
    {
     "data": {
      "text/plain": [
       "[<matplotlib.lines.Line2D at 0x7fc488c35668>]"
      ]
     },
     "execution_count": 30,
     "metadata": {},
     "output_type": "execute_result"
    },
    {
     "data": {
      "image/png": "[encoded data removed]",
      "text/plain": [
       "<matplotlib.figure.Figure at 0x7fc48ddfaac8>"
      ]
     },
     "metadata": {
      "needs_background": "light"
     },
     "output_type": "display_data"
    }
   ],
   "source": [
    "plt.plot(df[\"loss\"].values)"
   ]
  }
 ],
 "metadata": {
  "kernelspec": {
   "display_name": "Python (video)",
   "language": "python",
   "name": "video"
  },
  "language_info": {
   "codemirror_mode": {
    "name": "ipython",
    "version": 3
   },
   "file_extension": ".py",
   "mimetype": "text/x-python",
   "name": "python",
   "nbconvert_exporter": "python",
   "pygments_lexer": "ipython3",
   "version": "3.6.0"
  }
 },
 "nbformat": 4,
 "nbformat_minor": 2
}
